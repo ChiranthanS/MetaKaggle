{
  "nbformat": 4,
  "nbformat_minor": 0,
  "metadata": {
    "colab": {
      "private_outputs": true,
      "provenance": []
    },
    "kernelspec": {
      "name": "python3",
      "display_name": "Python 3"
    },
    "language_info": {
      "name": "python"
    }
  },
  "cells": [
    {
      "cell_type": "code",
      "source": [
        "#pip install pandas\n",
        "from bs4 import BeautifulSoup\n",
        "from textblob import TextBlob  # for sentiment analysis"
      ],
      "metadata": {
        "id": "8iMK9w7Dgta_"
      },
      "execution_count": null,
      "outputs": []
    },
    {
      "cell_type": "markdown",
      "source": [
        "## Data Cleanning"
      ],
      "metadata": {
        "id": "FUzWmT75wf2t"
      }
    },
    {
      "cell_type": "code",
      "source": [
        "import pandas as pd\n",
        "import numpy as np"
      ],
      "metadata": {
        "id": "zx1pl4Ncg08_"
      },
      "execution_count": null,
      "outputs": []
    },
    {
      "cell_type": "code",
      "source": [
        "path =\"/content/drive/MyDrive/Kaggle/ForumMessages.csv\"\n",
        "\n",
        "df = pd.read_csv(path)\n",
        "df.head(10)"
      ],
      "metadata": {
        "id": "LrrGQxMBg1lP"
      },
      "execution_count": null,
      "outputs": []
    },
    {
      "cell_type": "code",
      "source": [
        "np.random.seed(42)"
      ],
      "metadata": {
        "id": "uiXYZSUop5dG"
      },
      "execution_count": null,
      "outputs": []
    },
    {
      "cell_type": "markdown",
      "source": [],
      "metadata": {
        "id": "vCxNEgvYsNBC"
      }
    },
    {
      "cell_type": "code",
      "source": [
        "select_df_1 = df[['PostDate','Message']]\n",
        "#select_df = select_df_1.sample(n=20000, random_state=42)\n",
        "select_df = select_df_1\n",
        "#select_df = select_df[:1000]\n",
        "select_df.head(100)\n"
      ],
      "metadata": {
        "id": "1cqbM3qsh4Fi"
      },
      "execution_count": null,
      "outputs": []
    },
    {
      "cell_type": "code",
      "source": [
        "# Define lists to store sentiment polarities and PostDate\n",
        "sentiments = []\n",
        "post_dates = []"
      ],
      "metadata": {
        "id": "TCRjwu90jFMS"
      },
      "execution_count": null,
      "outputs": []
    },
    {
      "cell_type": "code",
      "source": [
        "# Iterate through each row in select_df\n",
        "for index, row in select_df.iterrows():\n",
        "    text = row['Message']\n",
        "\n",
        "    # Convert the text to string if it's not already\n",
        "    if not isinstance(text, str):\n",
        "        text = str(text)\n",
        "\n",
        "    # Remove HTML tags\n",
        "    clean_text = BeautifulSoup(text, \"html.parser\").get_text()\n",
        "\n",
        "    # Perform sentiment analysis\n",
        "    sentiment = TextBlob(clean_text).sentiment.polarity\n",
        "\n",
        "    # Append sentiment polarity to the sentiments list\n",
        "    sentiments.append(sentiment)\n",
        "\n",
        "    # Append the corresponding PostDate to the post_dates list\n",
        "    post_dates.append(row['PostDate'])\n",
        "\n",
        "# Create a DataFrame to store the results\n",
        "sentiment_df = pd.DataFrame({'PostDate': post_dates, 'Message': select_df['Message'], 'Sentiment': sentiments})\n",
        "\n",
        "# Display the first 100 rows of the DataFrame with the Sentiment column\n",
        "print(sentiment_df.head(100))"
      ],
      "metadata": {
        "id": "Ukv2GgL_jFrc"
      },
      "execution_count": null,
      "outputs": []
    },
    {
      "cell_type": "code",
      "source": [
        "# Convert 'PostDate' column to datetime format\n",
        "sentiment_df['PostDate'] = pd.to_datetime(sentiment_df['PostDate'], format='%m/%d/%Y %H:%M:%S')\n",
        "\n",
        "# Sort the DataFrame by the 'PostDate' column\n",
        "sentiment_df_sorted = sentiment_df.sort_values(by='PostDate')\n",
        "\n",
        "# Display the first 100 rows of the sorted DataFrame\n",
        "print(sentiment_df_sorted)"
      ],
      "metadata": {
        "id": "I4-5DDlFudE_"
      },
      "execution_count": null,
      "outputs": []
    },
    {
      "cell_type": "code",
      "source": [
        "import matplotlib.pyplot as plt\n",
        "\n",
        "# Assuming sentiment_df_sorted is your sorted DataFrame containing the 'PostDate' and 'Sentiment' columns\n",
        "\n",
        "# Plot the sentiment analysis\n",
        "plt.figure(figsize=(10, 6))\n",
        "plt.plot(sentiment_df_sorted['PostDate'], sentiment_df_sorted['Sentiment'], marker='o', linestyle='-')\n",
        "plt.title('Sentiment Analysis Over Time')\n",
        "plt.xlabel('Date')\n",
        "plt.ylabel('Sentiment Polarity')\n",
        "plt.xticks(rotation=45)\n",
        "plt.grid(True)\n",
        "plt.tight_layout()\n",
        "plt.show()\n"
      ],
      "metadata": {
        "id": "YBG5ICY3yPym"
      },
      "execution_count": null,
      "outputs": []
    },
    {
      "cell_type": "code",
      "source": [
        "import matplotlib.pyplot as plt\n",
        "\n",
        "# Assuming sentiment_df_sorted is your sorted DataFrame containing the 'PostDate' and 'Sentiment' columns\n",
        "\n",
        "# Plot the sentiment analysis\n",
        "plt.figure(figsize=(10, 6))\n",
        "\n",
        "# Plot sentiment polarity >= 0 in green\n",
        "plt.plot(sentiment_df_sorted['PostDate'][sentiment_df_sorted['Sentiment'] >= 0],\n",
        "         sentiment_df_sorted['Sentiment'][sentiment_df_sorted['Sentiment'] >= 0],\n",
        "         marker='o', linestyle='-', color='green', label='Non-negative Sentiment')\n",
        "\n",
        "# Plot sentiment polarity < 0 in red\n",
        "plt.plot(sentiment_df_sorted['PostDate'][sentiment_df_sorted['Sentiment'] < 0],\n",
        "         sentiment_df_sorted['Sentiment'][sentiment_df_sorted['Sentiment'] < 0],\n",
        "         marker='o', linestyle='-', color='red', label='Negative Sentiment')\n",
        "\n",
        "plt.title('Sentiment Analysis Over Time')\n",
        "plt.xlabel('Date')\n",
        "plt.ylabel('Sentiment Polarity')\n",
        "plt.xticks(rotation=45)\n",
        "plt.grid(True)\n",
        "plt.legend()\n",
        "plt.tight_layout()\n",
        "plt.show()\n"
      ],
      "metadata": {
        "id": "erl7xASTysC1"
      },
      "execution_count": null,
      "outputs": []
    },
    {
      "cell_type": "code",
      "source": [
        "import pandas as pd\n",
        "import matplotlib.pyplot as plt\n",
        "\n",
        "# Assuming sentiment_df_sorted is your sorted DataFrame containing the 'PostDate' and 'Sentiment' columns\n",
        "\n",
        "# Extract year from the 'PostDate' column\n",
        "sentiment_df_sorted['Year'] = sentiment_df_sorted['PostDate'].dt.year\n",
        "\n",
        "# Group by year and calculate the average sentiment polarity\n",
        "average_sentiment = sentiment_df_sorted.groupby('Year')['Sentiment'].mean()\n",
        "\n",
        "# Plot the average sentiment analysis\n",
        "plt.figure(figsize=(10, 6))\n",
        "\n",
        "# Plot positive sentiment in green\n",
        "positive_sentiment = average_sentiment[average_sentiment >= 0.20]\n",
        "plt.plot(positive_sentiment.index, positive_sentiment.values, marker='o', linestyle='-', color='green', label='Positive Sentiment')\n",
        "\n",
        "# Plot negative sentiment in red\n",
        "negative_sentiment = average_sentiment[average_sentiment < 0.20]\n",
        "plt.plot(negative_sentiment.index, negative_sentiment.values, marker='o', linestyle='-', color='red', label='Negative Sentiment')\n",
        "\n",
        "plt.title('Average Sentiment Analysis Over Time')\n",
        "plt.xlabel('Year')\n",
        "plt.ylabel('Average Sentiment Polarity')\n",
        "plt.xticks(average_sentiment.index)\n",
        "plt.grid(True)\n",
        "plt.legend()\n",
        "plt.tight_layout()\n",
        "plt.show()\n"
      ],
      "metadata": {
        "id": "PqJMNte9zB5w"
      },
      "execution_count": null,
      "outputs": []
    },
    {
      "cell_type": "code",
      "source": [
        "import pandas as pd\n",
        "import matplotlib.pyplot as plt\n",
        "\n",
        "# Assuming sentiment_df_sorted is your sorted DataFrame containing the 'PostDate' and 'Sentiment' columns\n",
        "\n",
        "# Extract year from the 'PostDate' column\n",
        "sentiment_df_sorted['Year'] = sentiment_df_sorted['PostDate'].dt.year\n",
        "\n",
        "# Group by year and calculate the average sentiment polarity for positive and negative sentiments separately\n",
        "average_positive_sentiment = sentiment_df_sorted[sentiment_df_sorted['Sentiment'] >= 0].groupby('Year')['Sentiment'].mean()\n",
        "average_negative_sentiment = sentiment_df_sorted[sentiment_df_sorted['Sentiment'] < 0].groupby('Year')['Sentiment'].mean()\n",
        "\n",
        "# Plot the average sentiment analysis\n",
        "plt.figure(figsize=(10, 6))\n",
        "\n",
        "# Plot average positive sentiment in green\n",
        "plt.plot(average_positive_sentiment.index, average_positive_sentiment.values, marker='o', linestyle='-', color='green', label='Average Positive Sentiment')\n",
        "\n",
        "# Plot average negative sentiment in red\n",
        "plt.plot(average_negative_sentiment.index, average_negative_sentiment.values, marker='o', linestyle='-', color='red', label='Average Negative Sentiment')\n",
        "\n",
        "plt.title('Average Sentiment Analysis Over Time')\n",
        "plt.xlabel('Year')\n",
        "plt.ylabel('Average Sentiment Polarity')\n",
        "plt.xticks(average_positive_sentiment.index)\n",
        "plt.grid(True)\n",
        "plt.legend()\n",
        "plt.tight_layout()\n",
        "plt.show()\n"
      ],
      "metadata": {
        "id": "APKjj1R1z4n4"
      },
      "execution_count": null,
      "outputs": []
    },
    {
      "cell_type": "code",
      "source": [
        "# Plot bar chart for sentiment distribution\n",
        "plt.figure(figsize=(10, 6))\n",
        "\n",
        "# Plot positive sentiment distribution\n",
        "plt.bar(average_positive_sentiment.index, average_positive_sentiment.values, color='green', label='Positive Sentiment')\n",
        "\n",
        "# Plot negative sentiment distribution\n",
        "plt.bar(average_negative_sentiment.index, average_negative_sentiment.values, color='red', label='Negative Sentiment')\n",
        "\n",
        "plt.title('Sentiment Distribution Over Time')\n",
        "plt.xlabel('Year')\n",
        "plt.ylabel('Average Sentiment Polarity')\n",
        "plt.xticks(average_positive_sentiment.index)\n",
        "plt.legend()\n",
        "plt.tight_layout()\n",
        "plt.show()\n"
      ],
      "metadata": {
        "id": "5g9wwp2okJ96"
      },
      "execution_count": null,
      "outputs": []
    },
    {
      "cell_type": "code",
      "source": [
        "# Plot box plot for sentiment variation\n",
        "plt.figure(figsize=(10, 6))\n",
        "\n",
        "# Create a box plot for positive sentiment\n",
        "plt.boxplot(sentiment_df_sorted[sentiment_df_sorted['Sentiment'] >= 0].groupby('Year')['Sentiment'].apply(list), positions=average_positive_sentiment.index, patch_artist=True, boxprops=dict(facecolor='lightgreen'), showmeans=True)\n",
        "\n",
        "# Create a box plot for negative sentiment\n",
        "plt.boxplot(sentiment_df_sorted[sentiment_df_sorted['Sentiment'] < 0].groupby('Year')['Sentiment'].apply(list), positions=average_negative_sentiment.index, patch_artist=True, boxprops=dict(facecolor='lightcoral'), showmeans=True)\n",
        "\n",
        "plt.title('Sentiment Variation Over Time')\n",
        "plt.xlabel('Year')\n",
        "plt.ylabel('Sentiment Polarity')\n",
        "plt.xticks(average_positive_sentiment.index)\n",
        "plt.grid(True)\n",
        "plt.tight_layout()\n",
        "plt.show()\n"
      ],
      "metadata": {
        "id": "OkPGqSh8kO1m"
      },
      "execution_count": null,
      "outputs": []
    },
    {
      "cell_type": "code",
      "source": [
        "plt.figure(figsize=(10, 6))\n",
        "\n",
        "# Create a box plot for positive sentiment (without outliers)\n",
        "plt.boxplot(sentiment_df_sorted[sentiment_df_sorted['Sentiment'] >= 0].groupby('Year')['Sentiment'].apply(list), positions=average_positive_sentiment.index, patch_artist=True, boxprops=dict(facecolor='lightgreen'), showmeans=True, showfliers=False)\n",
        "\n",
        "# Create a box plot for negative sentiment (without outliers)\n",
        "plt.boxplot(sentiment_df_sorted[sentiment_df_sorted['Sentiment'] < 0].groupby('Year')['Sentiment'].apply(list), positions=average_negative_sentiment.index, patch_artist=True, boxprops=dict(facecolor='lightcoral'), showmeans=True, showfliers=False)\n",
        "\n",
        "plt.title('Sentiment Variation Over Time')\n",
        "plt.xlabel('Year')\n",
        "plt.ylabel('Sentiment Polarity')\n",
        "plt.xticks(average_positive_sentiment.index)\n",
        "plt.grid(True)\n",
        "plt.tight_layout()\n",
        "plt.show()\n"
      ],
      "metadata": {
        "id": "VnBXU_XgAHch"
      },
      "execution_count": null,
      "outputs": []
    },
    {
      "cell_type": "markdown",
      "source": [
        "## Plot\n"
      ],
      "metadata": {
        "id": "TM1iwpP_wnFr"
      }
    },
    {
      "cell_type": "code",
      "source": [
        "import pandas as pd\n",
        "import matplotlib.pyplot as plt\n",
        "\n",
        "# Assuming sentiment_df_sorted is your sorted DataFrame containing the 'PostDate' and 'Sentiment' columns\n",
        "\n",
        "# Extract year from the 'PostDate' column\n",
        "sentiment_df_sorted['Year'] = sentiment_df_sorted['PostDate'].dt.year\n",
        "\n",
        "# Group by year and calculate the average sentiment polarity\n",
        "average_sentiment = sentiment_df_sorted.groupby('Year')['Sentiment'].mean()\n",
        "\n",
        "# Plot the average sentiment analysis\n",
        "plt.figure(figsize=(10, 6))\n",
        "plt.plot(average_sentiment.index, average_sentiment.values, marker='o', linestyle='-')\n",
        "plt.title('Average Sentiment Analysis Over Time')\n",
        "plt.xlabel('Year')\n",
        "plt.ylabel('Average Sentiment Polarity')\n",
        "plt.xticks(average_sentiment.index)\n",
        "plt.grid(True)\n",
        "\n",
        "# Highlight positive sentiment in green and negative sentiment in red\n",
        "positive_sentiment = average_sentiment[average_sentiment >= 0.25]\n",
        "negative_sentiment = average_sentiment[average_sentiment < 0.25]\n",
        "\n",
        "plt.scatter(positive_sentiment.index, positive_sentiment.values, color='green', label='Positive Sentiment')\n",
        "plt.scatter(negative_sentiment.index, negative_sentiment.values, color='red', label='Negative Sentiment')\n",
        "plt.legend()\n",
        "\n",
        "plt.tight_layout()\n",
        "plt.show()\n"
      ],
      "metadata": {
        "id": "tUDCrw3Ywp9v"
      },
      "execution_count": null,
      "outputs": []
    }
  ]
}